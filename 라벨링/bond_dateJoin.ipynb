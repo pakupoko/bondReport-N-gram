{
 "cells": [
  {
   "cell_type": "code",
   "execution_count": 37,
   "metadata": {},
   "outputs": [],
   "source": [
    "import pandas as pd"
   ]
  },
  {
   "cell_type": "code",
   "execution_count": 38,
   "metadata": {},
   "outputs": [],
   "source": [
    "df=pd.read_csv(\"bond_Labeling.csv\",encoding='utf-8', engine='python')"
   ]
  },
  {
   "cell_type": "code",
   "execution_count": 39,
   "metadata": {},
   "outputs": [],
   "source": [
    "df=df.drop('Unnamed: 0',axis=1)"
   ]
  },
  {
   "cell_type": "code",
   "execution_count": 44,
   "metadata": {},
   "outputs": [
    {
     "data": {
      "text/plain": [
       "'금리/NNG;인상/NNG;반대/NNG, 희박/NNG;금리/NNG;인상/NNG, 아직/MAG;경기/NNG;회복/NNG, 예상/NNG;금리/NNG;인상/NNG, 어렵/VA;물가/NNG;안정/NNG, 성장/NNG;물가/NNG;낮/VA, 경제/NNG;완화/NNG, 회복/NNG;조짐/NNG, 경기/NNG;과열/NNG, 요금/NNG;인하/NNG, 어렵/VA;위험/NNG'"
      ]
     },
     "execution_count": 44,
     "metadata": {},
     "output_type": "execute_result"
    }
   ],
   "source": [
    "df.loc[3]['n-gram']"
   ]
  },
  {
   "cell_type": "code",
   "execution_count": 45,
   "metadata": {},
   "outputs": [],
   "source": [
    "comparison=''\n",
    "ngram_list=[]\n",
    "date_list=[]\n",
    "updown_list=[]\n",
    "for idx,date in enumerate(df['날짜']):\n",
    "    if comparison == df.loc[idx]['날짜']:\n",
    "        ngram_list[-1] += ', ' + df.loc[idx]['n-gram']\n",
    "    else:\n",
    "        comparison = df.loc[idx]['날짜']\n",
    "        ngram_list.append(df.loc[idx]['n-gram'])\n",
    "        date_list.append(df.loc[idx]['날짜'])\n",
    "        updown_list.append(df.loc[idx]['UpDown'])"
   ]
  },
  {
   "cell_type": "code",
   "execution_count": 46,
   "metadata": {},
   "outputs": [],
   "source": [
    "new_df=pd.DataFrame(columns=['날짜','n-gram','UpDown'])\n",
    "\n",
    "new_df['날짜']=date_list\n",
    "new_df['n-gram']=ngram_list\n",
    "new_df['UpDown']=updown_list"
   ]
  },
  {
   "cell_type": "code",
   "execution_count": 47,
   "metadata": {},
   "outputs": [
    {
     "data": {
      "text/plain": [
       "'국고채/NNG;금리/NNG;급등/NNG, 원금/NNG;상환/NNG;부담/NNG, 금리/NNG;매력/NNG;높/VA, 상환/NNG;부담/NNG;낮/VV, 수요/NNG;많/VA;않/VX, 수익성/NNG;부정적/VAX, 투자심리/NNG;위축/NNG, 금리/NNG;인상/NNG, 금리/NNG;하락/NNG, 금리/NNG;상승/NNG, 손실/NNG;위험/NNG, 자본/NNG;확충/NNG, 예상/NNG;많/VA, 대출/NNG;늘/VV, 금리/NNG;인상/NNG;반대/NNG, 희박/NNG;금리/NNG;인상/NNG, 아직/MAG;경기/NNG;회복/NNG, 예상/NNG;금리/NNG;인상/NNG, 어렵/VA;물가/NNG;안정/NNG, 성장/NNG;물가/NNG;낮/VA, 경제/NNG;완화/NNG, 회복/NNG;조짐/NNG, 경기/NNG;과열/NNG, 요금/NNG;인하/NNG, 어렵/VA;위험/NNG'"
      ]
     },
     "execution_count": 47,
     "metadata": {},
     "output_type": "execute_result"
    }
   ],
   "source": [
    "new_df.loc[2]['n-gram']"
   ]
  },
  {
   "cell_type": "code",
   "execution_count": 48,
   "metadata": {},
   "outputs": [],
   "source": [
    "new_df.to_csv('bond_dateJoin.csv', encoding='utf-8', index=False)"
   ]
  },
  {
   "cell_type": "code",
   "execution_count": null,
   "metadata": {},
   "outputs": [],
   "source": []
  }
 ],
 "metadata": {
  "kernelspec": {
   "display_name": "Python 3",
   "language": "python",
   "name": "python3"
  },
  "language_info": {
   "codemirror_mode": {
    "name": "ipython",
    "version": 3
   },
   "file_extension": ".py",
   "mimetype": "text/x-python",
   "name": "python",
   "nbconvert_exporter": "python",
   "pygments_lexer": "ipython3",
   "version": "3.6.6"
  }
 },
 "nbformat": 4,
 "nbformat_minor": 2
}
